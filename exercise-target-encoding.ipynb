{
 "cells": [
  {
   "cell_type": "markdown",
   "id": "4939658a",
   "metadata": {
    "papermill": {
     "duration": 0.007185,
     "end_time": "2022-09-14T22:41:01.634708",
     "exception": false,
     "start_time": "2022-09-14T22:41:01.627523",
     "status": "completed"
    },
    "tags": []
   },
   "source": [
    "**This notebook is an exercise in the [Feature Engineering](https://www.kaggle.com/learn/feature-engineering) course.  You can reference the tutorial at [this link](https://www.kaggle.com/ryanholbrook/target-encoding).**\n",
    "\n",
    "---\n"
   ]
  },
  {
   "cell_type": "markdown",
   "id": "4a258f4f",
   "metadata": {
    "papermill": {
     "duration": 0.005741,
     "end_time": "2022-09-14T22:41:01.647068",
     "exception": false,
     "start_time": "2022-09-14T22:41:01.641327",
     "status": "completed"
    },
    "tags": []
   },
   "source": [
    "# Introduction #\n",
    "\n",
    "In this exercise, you'll apply target encoding to features in the [*Ames*](https://www.kaggle.com/c/house-prices-advanced-regression-techniques/data) dataset.\n",
    "\n",
    "Run this cell to set everything up!"
   ]
  },
  {
   "cell_type": "code",
   "execution_count": 1,
   "id": "69a27ac6",
   "metadata": {
    "execution": {
     "iopub.execute_input": "2022-09-14T22:41:01.661790Z",
     "iopub.status.busy": "2022-09-14T22:41:01.661034Z",
     "iopub.status.idle": "2022-09-14T22:41:03.495429Z",
     "shell.execute_reply": "2022-09-14T22:41:03.494445Z"
    },
    "papermill": {
     "duration": 1.844833,
     "end_time": "2022-09-14T22:41:03.498001",
     "exception": false,
     "start_time": "2022-09-14T22:41:01.653168",
     "status": "completed"
    },
    "tags": []
   },
   "outputs": [],
   "source": [
    "# Setup feedback system\n",
    "from learntools.core import binder\n",
    "binder.bind(globals())\n",
    "from learntools.feature_engineering_new.ex6 import *\n",
    "\n",
    "import matplotlib.pyplot as plt\n",
    "import numpy as np\n",
    "import pandas as pd\n",
    "import seaborn as sns\n",
    "import warnings\n",
    "from category_encoders import MEstimateEncoder\n",
    "from sklearn.model_selection import cross_val_score\n",
    "from xgboost import XGBRegressor\n",
    "\n",
    "# Set Matplotlib defaults\n",
    "plt.style.use(\"seaborn-whitegrid\")\n",
    "plt.rc(\"figure\", autolayout=True)\n",
    "plt.rc(\n",
    "    \"axes\",\n",
    "    labelweight=\"bold\",\n",
    "    labelsize=\"large\",\n",
    "    titleweight=\"bold\",\n",
    "    titlesize=14,\n",
    "    titlepad=10,\n",
    ")\n",
    "warnings.filterwarnings('ignore')\n",
    "\n",
    "\n",
    "def score_dataset(X, y, model=XGBRegressor()):\n",
    "    # Label encoding for categoricals\n",
    "    for colname in X.select_dtypes([\"category\", \"object\"]):\n",
    "        X[colname], _ = X[colname].factorize()\n",
    "    # Metric for Housing competition is RMSLE (Root Mean Squared Log Error)\n",
    "    score = cross_val_score(\n",
    "        model, X, y, cv=5, scoring=\"neg_mean_squared_log_error\",\n",
    "    )\n",
    "    score = -1 * score.mean()\n",
    "    score = np.sqrt(score)\n",
    "    return score\n",
    "\n",
    "\n",
    "df = pd.read_csv(\"../input/fe-course-data/ames.csv\")"
   ]
  },
  {
   "cell_type": "markdown",
   "id": "397bc38e",
   "metadata": {
    "papermill": {
     "duration": 0.005749,
     "end_time": "2022-09-14T22:41:03.510085",
     "exception": false,
     "start_time": "2022-09-14T22:41:03.504336",
     "status": "completed"
    },
    "tags": []
   },
   "source": [
    "-------------------------------------------------------------------------------\n",
    "\n",
    "First you'll need to choose which features you want to apply a target encoding to. Categorical features with a large number of categories are often good candidates. Run this cell to see how many categories each categorical feature in the *Ames* dataset has."
   ]
  },
  {
   "cell_type": "code",
   "execution_count": 2,
   "id": "ae57e1e7",
   "metadata": {
    "execution": {
     "iopub.execute_input": "2022-09-14T22:41:03.523892Z",
     "iopub.status.busy": "2022-09-14T22:41:03.523308Z",
     "iopub.status.idle": "2022-09-14T22:41:03.559141Z",
     "shell.execute_reply": "2022-09-14T22:41:03.558022Z"
    },
    "papermill": {
     "duration": 0.045502,
     "end_time": "2022-09-14T22:41:03.561517",
     "exception": false,
     "start_time": "2022-09-14T22:41:03.516015",
     "status": "completed"
    },
    "tags": []
   },
   "outputs": [
    {
     "data": {
      "text/plain": [
       "MSSubClass       16\n",
       "MSZoning          7\n",
       "Street            2\n",
       "Alley             3\n",
       "LotShape          4\n",
       "LandContour       4\n",
       "Utilities         3\n",
       "LotConfig         5\n",
       "LandSlope         3\n",
       "Neighborhood     28\n",
       "Condition1        9\n",
       "Condition2        8\n",
       "BldgType          5\n",
       "HouseStyle        8\n",
       "OverallQual      10\n",
       "OverallCond       9\n",
       "RoofStyle         6\n",
       "RoofMatl          8\n",
       "Exterior1st      16\n",
       "Exterior2nd      17\n",
       "MasVnrType        5\n",
       "ExterQual         4\n",
       "ExterCond         5\n",
       "Foundation        6\n",
       "BsmtQual          6\n",
       "BsmtCond          6\n",
       "BsmtExposure      5\n",
       "BsmtFinType1      7\n",
       "BsmtFinType2      7\n",
       "Heating           6\n",
       "HeatingQC         5\n",
       "CentralAir        2\n",
       "Electrical        6\n",
       "KitchenQual       5\n",
       "Functional        8\n",
       "FireplaceQu       6\n",
       "GarageType        7\n",
       "GarageFinish      4\n",
       "GarageQual        6\n",
       "GarageCond        6\n",
       "PavedDrive        3\n",
       "PoolQC            5\n",
       "Fence             5\n",
       "MiscFeature       6\n",
       "SaleType         10\n",
       "SaleCondition     6\n",
       "dtype: int64"
      ]
     },
     "execution_count": 2,
     "metadata": {},
     "output_type": "execute_result"
    }
   ],
   "source": [
    "df.select_dtypes([\"object\"]).nunique()"
   ]
  },
  {
   "cell_type": "markdown",
   "id": "36a79956",
   "metadata": {
    "papermill": {
     "duration": 0.005796,
     "end_time": "2022-09-14T22:41:03.573669",
     "exception": false,
     "start_time": "2022-09-14T22:41:03.567873",
     "status": "completed"
    },
    "tags": []
   },
   "source": [
    "We talked about how the M-estimate encoding uses smoothing to improve estimates for rare categories. To see how many times a category occurs in the dataset, you can use the `value_counts` method. This cell shows the counts for `SaleType`, but you might want to consider others as well."
   ]
  },
  {
   "cell_type": "code",
   "execution_count": 3,
   "id": "0ba63bda",
   "metadata": {
    "execution": {
     "iopub.execute_input": "2022-09-14T22:41:03.587717Z",
     "iopub.status.busy": "2022-09-14T22:41:03.587285Z",
     "iopub.status.idle": "2022-09-14T22:41:03.599336Z",
     "shell.execute_reply": "2022-09-14T22:41:03.598205Z"
    },
    "papermill": {
     "duration": 0.021762,
     "end_time": "2022-09-14T22:41:03.601683",
     "exception": false,
     "start_time": "2022-09-14T22:41:03.579921",
     "status": "completed"
    },
    "tags": []
   },
   "outputs": [
    {
     "data": {
      "text/plain": [
       "WD       2536\n",
       "New       239\n",
       "COD        87\n",
       "ConLD      26\n",
       "CWD        12\n",
       "ConLI       9\n",
       "ConLw       8\n",
       "Oth         7\n",
       "Con         5\n",
       "VWD         1\n",
       "Name: SaleType, dtype: int64"
      ]
     },
     "execution_count": 3,
     "metadata": {},
     "output_type": "execute_result"
    }
   ],
   "source": [
    "df[\"SaleType\"].value_counts()"
   ]
  },
  {
   "cell_type": "markdown",
   "id": "53618204",
   "metadata": {
    "papermill": {
     "duration": 0.005938,
     "end_time": "2022-09-14T22:41:03.613863",
     "exception": false,
     "start_time": "2022-09-14T22:41:03.607925",
     "status": "completed"
    },
    "tags": []
   },
   "source": [
    "# 1) Choose Features for Encoding\n",
    "\n",
    "Which features did you identify for target encoding? After you've thought about your answer, run the next cell for some discussion."
   ]
  },
  {
   "cell_type": "code",
   "execution_count": 4,
   "id": "ee46085f",
   "metadata": {
    "execution": {
     "iopub.execute_input": "2022-09-14T22:41:03.627824Z",
     "iopub.status.busy": "2022-09-14T22:41:03.627420Z",
     "iopub.status.idle": "2022-09-14T22:41:03.635994Z",
     "shell.execute_reply": "2022-09-14T22:41:03.635225Z"
    },
    "papermill": {
     "duration": 0.017969,
     "end_time": "2022-09-14T22:41:03.637956",
     "exception": false,
     "start_time": "2022-09-14T22:41:03.619987",
     "status": "completed"
    },
    "tags": []
   },
   "outputs": [
    {
     "data": {
      "application/javascript": [
       "parent.postMessage({\"jupyterEvent\": \"custom.exercise_interaction\", \"data\": {\"outcomeType\": 1, \"valueTowardsCompletion\": 0.3333333333333333, \"interactionType\": 1, \"questionType\": 4, \"questionId\": \"1_Q1\", \"learnToolsVersion\": \"0.3.4\", \"failureMessage\": \"\", \"exceptionClass\": \"\", \"trace\": \"\"}}, \"*\")"
      ],
      "text/plain": [
       "<IPython.core.display.Javascript object>"
      ]
     },
     "metadata": {},
     "output_type": "display_data"
    },
    {
     "data": {
      "text/markdown": [
       "<span style=\"color:#33cc33\">Correct:</span> \n",
       "\n",
       " The `Neighborhood` feature looks promising. It has the most categories of any feature, and several categories are rare. Others that could be worth considering are `SaleType`, `MSSubClass`, `Exterior1st`, `Exterior2nd`. In fact, almost any of the nominal features would be worth trying because of the prevalence of rare categories."
      ],
      "text/plain": [
       "Correct: \n",
       "\n",
       " The `Neighborhood` feature looks promising. It has the most categories of any feature, and several categories are rare. Others that could be worth considering are `SaleType`, `MSSubClass`, `Exterior1st`, `Exterior2nd`. In fact, almost any of the nominal features would be worth trying because of the prevalence of rare categories."
      ]
     },
     "metadata": {},
     "output_type": "display_data"
    }
   ],
   "source": [
    "# View the solution (Run this cell to receive credit!)\n",
    "q_1.check()"
   ]
  },
  {
   "cell_type": "markdown",
   "id": "38f4e7c3",
   "metadata": {
    "papermill": {
     "duration": 0.006145,
     "end_time": "2022-09-14T22:41:03.650552",
     "exception": false,
     "start_time": "2022-09-14T22:41:03.644407",
     "status": "completed"
    },
    "tags": []
   },
   "source": [
    "-------------------------------------------------------------------------------\n",
    "\n",
    "Now you'll apply a target encoding to your choice of feature. As we discussed in the tutorial, to avoid overfitting, we need to fit the encoder on data heldout from the training set. Run this cell to create the encoding and training splits:"
   ]
  },
  {
   "cell_type": "code",
   "execution_count": 5,
   "id": "82679bbf",
   "metadata": {
    "execution": {
     "iopub.execute_input": "2022-09-14T22:41:03.664869Z",
     "iopub.status.busy": "2022-09-14T22:41:03.664509Z",
     "iopub.status.idle": "2022-09-14T22:41:03.679125Z",
     "shell.execute_reply": "2022-09-14T22:41:03.677990Z"
    },
    "lines_to_next_cell": 2,
    "papermill": {
     "duration": 0.024553,
     "end_time": "2022-09-14T22:41:03.681345",
     "exception": false,
     "start_time": "2022-09-14T22:41:03.656792",
     "status": "completed"
    },
    "tags": []
   },
   "outputs": [],
   "source": [
    "# Encoding split\n",
    "X_encode = df.sample(frac=0.20, random_state=0)\n",
    "y_encode = X_encode.pop(\"SalePrice\")\n",
    "\n",
    "# Training split\n",
    "X_pretrain = df.drop(X_encode.index)\n",
    "y_train = X_pretrain.pop(\"SalePrice\")"
   ]
  },
  {
   "cell_type": "markdown",
   "id": "7680e0ca",
   "metadata": {
    "papermill": {
     "duration": 0.006176,
     "end_time": "2022-09-14T22:41:03.693993",
     "exception": false,
     "start_time": "2022-09-14T22:41:03.687817",
     "status": "completed"
    },
    "tags": []
   },
   "source": [
    "# 2) Apply M-Estimate Encoding\n",
    "\n",
    "Apply a target encoding to your choice of categorical features. Also choose a value for the smoothing parameter `m` (any value is okay for a correct answer)."
   ]
  },
  {
   "cell_type": "code",
   "execution_count": 6,
   "id": "25e1c966",
   "metadata": {
    "execution": {
     "iopub.execute_input": "2022-09-14T22:41:03.708030Z",
     "iopub.status.busy": "2022-09-14T22:41:03.707629Z",
     "iopub.status.idle": "2022-09-14T22:41:03.899459Z",
     "shell.execute_reply": "2022-09-14T22:41:03.898377Z"
    },
    "lines_to_next_cell": 0,
    "papermill": {
     "duration": 0.201368,
     "end_time": "2022-09-14T22:41:03.901569",
     "exception": false,
     "start_time": "2022-09-14T22:41:03.700201",
     "status": "completed"
    },
    "tags": []
   },
   "outputs": [
    {
     "data": {
      "application/javascript": [
       "parent.postMessage({\"jupyterEvent\": \"custom.exercise_interaction\", \"data\": {\"outcomeType\": 1, \"valueTowardsCompletion\": 0.3333333333333333, \"interactionType\": 1, \"questionType\": 2, \"questionId\": \"2_Q2\", \"learnToolsVersion\": \"0.3.4\", \"failureMessage\": \"\", \"exceptionClass\": \"\", \"trace\": \"\"}}, \"*\")"
      ],
      "text/plain": [
       "<IPython.core.display.Javascript object>"
      ]
     },
     "metadata": {},
     "output_type": "display_data"
    },
    {
     "data": {
      "text/markdown": [
       "<span style=\"color:#33cc33\">Correct</span>"
      ],
      "text/plain": [
       "Correct"
      ]
     },
     "metadata": {},
     "output_type": "display_data"
    }
   ],
   "source": [
    "# YOUR CODE HERE: Create the MEstimateEncoder\n",
    "# Choose a set of features to encode and a value for m\n",
    "encoder = MEstimateEncoder(cols=[\"Neighborhood\",\"SaleType\", \"MSSubClass\", \"Exterior1st\", \"Exterior2nd\"])\n",
    "\n",
    "\n",
    "# Fit the encoder on the encoding split\n",
    "encoder.fit(X_encode,y_encode)\n",
    "\n",
    "# Encode the training split\n",
    "X_train = encoder.transform(X_pretrain, y_train)\n",
    "\n",
    "\n",
    "# Check your answer\n",
    "q_2.check()"
   ]
  },
  {
   "cell_type": "code",
   "execution_count": 7,
   "id": "d8f2cad7",
   "metadata": {
    "execution": {
     "iopub.execute_input": "2022-09-14T22:41:03.917066Z",
     "iopub.status.busy": "2022-09-14T22:41:03.916659Z",
     "iopub.status.idle": "2022-09-14T22:41:03.921331Z",
     "shell.execute_reply": "2022-09-14T22:41:03.920326Z"
    },
    "lines_to_next_cell": 0,
    "papermill": {
     "duration": 0.01529,
     "end_time": "2022-09-14T22:41:03.923535",
     "exception": false,
     "start_time": "2022-09-14T22:41:03.908245",
     "status": "completed"
    },
    "tags": []
   },
   "outputs": [],
   "source": [
    "# Lines below will give you a hint or solution code\n",
    "#q_2.hint()\n",
    "#q_2.solution()"
   ]
  },
  {
   "cell_type": "markdown",
   "id": "a6a03bcc",
   "metadata": {
    "papermill": {
     "duration": 0.006616,
     "end_time": "2022-09-14T22:41:03.936960",
     "exception": false,
     "start_time": "2022-09-14T22:41:03.930344",
     "status": "completed"
    },
    "tags": []
   },
   "source": [
    "If you'd like to see how the encoded feature compares to the target, you can run this cell:"
   ]
  },
  {
   "cell_type": "code",
   "execution_count": 8,
   "id": "5bc4624e",
   "metadata": {
    "execution": {
     "iopub.execute_input": "2022-09-14T22:41:03.952121Z",
     "iopub.status.busy": "2022-09-14T22:41:03.951684Z",
     "iopub.status.idle": "2022-09-14T22:41:04.444377Z",
     "shell.execute_reply": "2022-09-14T22:41:04.443190Z"
    },
    "papermill": {
     "duration": 0.504937,
     "end_time": "2022-09-14T22:41:04.448520",
     "exception": false,
     "start_time": "2022-09-14T22:41:03.943583",
     "status": "completed"
    },
    "tags": []
   },
   "outputs": [
    {
     "data": {
      "image/png": "[encoded data removed]",
      "text/plain": [
       "<Figure size 540x360 with 1 Axes>"
      ]
     },
     "metadata": {},
     "output_type": "display_data"
    }
   ],
   "source": [
    "feature = encoder.cols\n",
    "\n",
    "plt.figure(dpi=90)\n",
    "ax = sns.distplot(y_train, kde=True, hist=False)\n",
    "ax = sns.distplot(X_train[feature], color='r', ax=ax, hist=True, kde=False, norm_hist=True)\n",
    "ax.set_xlabel(\"SalePrice\");"
   ]
  },
  {
   "cell_type": "markdown",
   "id": "ece589be",
   "metadata": {
    "papermill": {
     "duration": 0.006921,
     "end_time": "2022-09-14T22:41:04.464559",
     "exception": false,
     "start_time": "2022-09-14T22:41:04.457638",
     "status": "completed"
    },
    "tags": []
   },
   "source": [
    "From the distribution plots, does it seem like the encoding is informative?\n",
    "\n",
    "And this cell will show you the score of the encoded set compared to the original set:"
   ]
  },
  {
   "cell_type": "code",
   "execution_count": 9,
   "id": "aa826d9c",
   "metadata": {
    "execution": {
     "iopub.execute_input": "2022-09-14T22:41:04.483910Z",
     "iopub.status.busy": "2022-09-14T22:41:04.483501Z",
     "iopub.status.idle": "2022-09-14T22:41:13.243703Z",
     "shell.execute_reply": "2022-09-14T22:41:13.242824Z"
    },
    "papermill": {
     "duration": 8.773834,
     "end_time": "2022-09-14T22:41:13.246564",
     "exception": false,
     "start_time": "2022-09-14T22:41:04.472730",
     "status": "completed"
    },
    "tags": []
   },
   "outputs": [
    {
     "name": "stdout",
     "output_type": "stream",
     "text": [
      "Baseline Score: 0.1428 RMSLE\n",
      "Score with Encoding: 0.1435 RMSLE\n"
     ]
    }
   ],
   "source": [
    "X = df.copy()\n",
    "y = X.pop(\"SalePrice\")\n",
    "score_base = score_dataset(X, y)\n",
    "score_new = score_dataset(X_train, y_train)\n",
    "\n",
    "print(f\"Baseline Score: {score_base:.4f} RMSLE\")\n",
    "print(f\"Score with Encoding: {score_new:.4f} RMSLE\")"
   ]
  },
  {
   "cell_type": "markdown",
   "id": "2c74d5b2",
   "metadata": {
    "papermill": {
     "duration": 0.007188,
     "end_time": "2022-09-14T22:41:13.262370",
     "exception": false,
     "start_time": "2022-09-14T22:41:13.255182",
     "status": "completed"
    },
    "tags": []
   },
   "source": [
    "Do you think that target encoding was worthwhile in this case? Depending on which feature or features you chose, you may have ended up with a score significantly worse than the baseline. In that case, it's likely the extra information gained by the encoding couldn't make up for the loss of data used for the encoding."
   ]
  },
  {
   "cell_type": "markdown",
   "id": "752cd549",
   "metadata": {
    "papermill": {
     "duration": 0.006792,
     "end_time": "2022-09-14T22:41:13.276315",
     "exception": false,
     "start_time": "2022-09-14T22:41:13.269523",
     "status": "completed"
    },
    "tags": []
   },
   "source": [
    "-------------------------------------------------------------------------------\n",
    "\n",
    "In this question, you'll explore the problem of overfitting with target encodings. This will illustrate this importance of training fitting target encoders on data held-out from the training set.\n",
    "\n",
    "So let's see what happens when we fit the encoder and the model on the *same* dataset. To emphasize how dramatic the overfitting can be, we'll mean-encode a feature that should have no relationship with `SalePrice`, a count: `0, 1, 2, 3, 4, 5, ...`."
   ]
  },
  {
   "cell_type": "code",
   "execution_count": 10,
   "id": "8ee3369e",
   "metadata": {
    "execution": {
     "iopub.execute_input": "2022-09-14T22:41:13.291887Z",
     "iopub.status.busy": "2022-09-14T22:41:13.291466Z",
     "iopub.status.idle": "2022-09-14T22:41:17.621186Z",
     "shell.execute_reply": "2022-09-14T22:41:17.620336Z"
    },
    "papermill": {
     "duration": 4.340362,
     "end_time": "2022-09-14T22:41:17.623549",
     "exception": false,
     "start_time": "2022-09-14T22:41:13.283187",
     "status": "completed"
    },
    "tags": []
   },
   "outputs": [
    {
     "name": "stdout",
     "output_type": "stream",
     "text": [
      "Score: 0.0293 RMSLE\n"
     ]
    }
   ],
   "source": [
    "# Try experimenting with the smoothing parameter m\n",
    "# Try 0, 1, 5, 50\n",
    "m = 0\n",
    "\n",
    "X = df.copy()\n",
    "y = X.pop('SalePrice')\n",
    "\n",
    "# Create an uninformative feature\n",
    "X[\"Count\"] = range(len(X))\n",
    "X[\"Count\"][1] = 0  # actually need one duplicate value to circumvent error-checking in MEstimateEncoder\n",
    "\n",
    "# fit and transform on the same dataset\n",
    "encoder = MEstimateEncoder(cols=\"Count\", m=m)\n",
    "X = encoder.fit_transform(X, y)\n",
    "\n",
    "# Results\n",
    "score =  score_dataset(X, y)\n",
    "print(f\"Score: {score:.4f} RMSLE\")"
   ]
  },
  {
   "cell_type": "markdown",
   "id": "906e13e6",
   "metadata": {
    "papermill": {
     "duration": 0.006824,
     "end_time": "2022-09-14T22:41:17.639186",
     "exception": false,
     "start_time": "2022-09-14T22:41:17.632362",
     "status": "completed"
    },
    "tags": []
   },
   "source": [
    "Almost a perfect score!"
   ]
  },
  {
   "cell_type": "code",
   "execution_count": 11,
   "id": "d0c4e621",
   "metadata": {
    "execution": {
     "iopub.execute_input": "2022-09-14T22:41:17.655459Z",
     "iopub.status.busy": "2022-09-14T22:41:17.655015Z",
     "iopub.status.idle": "2022-09-14T22:41:18.086401Z",
     "shell.execute_reply": "2022-09-14T22:41:18.084326Z"
    },
    "papermill": {
     "duration": 0.442402,
     "end_time": "2022-09-14T22:41:18.088734",
     "exception": false,
     "start_time": "2022-09-14T22:41:17.646332",
     "status": "completed"
    },
    "tags": []
   },
   "outputs": [
    {
     "data": {
      "image/png": "[encoded data removed]",
      "text/plain": [
       "<Figure size 540x360 with 1 Axes>"
      ]
     },
     "metadata": {},
     "output_type": "display_data"
    }
   ],
   "source": [
    "plt.figure(dpi=90)\n",
    "ax = sns.distplot(y, kde=True, hist=False)\n",
    "ax = sns.distplot(X[\"Count\"], color='r', ax=ax, hist=True, kde=False, norm_hist=True)\n",
    "ax.set_xlabel(\"SalePrice\");"
   ]
  },
  {
   "cell_type": "markdown",
   "id": "96b4e589",
   "metadata": {
    "papermill": {
     "duration": 0.007175,
     "end_time": "2022-09-14T22:41:18.103690",
     "exception": false,
     "start_time": "2022-09-14T22:41:18.096515",
     "status": "completed"
    },
    "tags": []
   },
   "source": [
    "And the distributions are almost exactly the same, too.\n",
    "\n",
    "# 3) Overfitting with Target Encoders\n",
    "\n",
    "Based on your understanding of how mean-encoding works, can you explain how XGBoost was able to get an almost a perfect fit after mean-encoding the count feature?"
   ]
  },
  {
   "cell_type": "code",
   "execution_count": 12,
   "id": "29402d1f",
   "metadata": {
    "execution": {
     "iopub.execute_input": "2022-09-14T22:41:18.121312Z",
     "iopub.status.busy": "2022-09-14T22:41:18.120175Z",
     "iopub.status.idle": "2022-09-14T22:41:18.127981Z",
     "shell.execute_reply": "2022-09-14T22:41:18.127241Z"
    },
    "lines_to_next_cell": 0,
    "papermill": {
     "duration": 0.01862,
     "end_time": "2022-09-14T22:41:18.129919",
     "exception": false,
     "start_time": "2022-09-14T22:41:18.111299",
     "status": "completed"
    },
    "tags": []
   },
   "outputs": [
    {
     "data": {
      "application/javascript": [
       "parent.postMessage({\"jupyterEvent\": \"custom.exercise_interaction\", \"data\": {\"outcomeType\": 1, \"valueTowardsCompletion\": 0.3333333333333333, \"interactionType\": 1, \"questionType\": 4, \"questionId\": \"3_Q3\", \"learnToolsVersion\": \"0.3.4\", \"failureMessage\": \"\", \"exceptionClass\": \"\", \"trace\": \"\"}}, \"*\")"
      ],
      "text/plain": [
       "<IPython.core.display.Javascript object>"
      ]
     },
     "metadata": {},
     "output_type": "display_data"
    },
    {
     "data": {
      "text/markdown": [
       "<span style=\"color:#33cc33\">Correct:</span> \n",
       "\n",
       "\n",
       "Since `Count` never has any duplicate values, the mean-encoded `Count` is essentially an exact copy of the target. In other words, mean-encoding turned a completely meaningless feature into a perfect feature.\n",
       "\n",
       "Now, the only reason this worked is because we trained XGBoost on the same set we used to train the encoder. If we had used a hold-out set instead, none of this \"fake\" encoding would have transferred to the training data.\n",
       "\n",
       "The lesson is that when using a target encoder it's very important to use separate data sets for training the encoder and training the model. Otherwise the results can be very disappointing!\n"
      ],
      "text/plain": [
       "Correct: \n",
       "\n",
       "\n",
       "Since `Count` never has any duplicate values, the mean-encoded `Count` is essentially an exact copy of the target. In other words, mean-encoding turned a completely meaningless feature into a perfect feature.\n",
       "\n",
       "Now, the only reason this worked is because we trained XGBoost on the same set we used to train the encoder. If we had used a hold-out set instead, none of this \"fake\" encoding would have transferred to the training data.\n",
       "\n",
       "The lesson is that when using a target encoder it's very important to use separate data sets for training the encoder and training the model. Otherwise the results can be very disappointing!"
      ]
     },
     "metadata": {},
     "output_type": "display_data"
    }
   ],
   "source": [
    "# View the solution (Run this cell to receive credit!)\n",
    "q_3.check()"
   ]
  },
  {
   "cell_type": "code",
   "execution_count": 13,
   "id": "4b7161b3",
   "metadata": {
    "execution": {
     "iopub.execute_input": "2022-09-14T22:41:18.147702Z",
     "iopub.status.busy": "2022-09-14T22:41:18.146728Z",
     "iopub.status.idle": "2022-09-14T22:41:18.150740Z",
     "shell.execute_reply": "2022-09-14T22:41:18.150008Z"
    },
    "papermill": {
     "duration": 0.014873,
     "end_time": "2022-09-14T22:41:18.152705",
     "exception": false,
     "start_time": "2022-09-14T22:41:18.137832",
     "status": "completed"
    },
    "tags": []
   },
   "outputs": [],
   "source": [
    "# Uncomment this if you'd like a hint before seeing the answer\n",
    "#q_3.hint()"
   ]
  },
  {
   "cell_type": "markdown",
   "id": "39aee4d7",
   "metadata": {
    "papermill": {
     "duration": 0.007482,
     "end_time": "2022-09-14T22:41:18.168193",
     "exception": false,
     "start_time": "2022-09-14T22:41:18.160711",
     "status": "completed"
    },
    "tags": []
   },
   "source": [
    "# The End #\n",
    "\n",
    "That's it for *Feature Engineering*! We hope you enjoyed your time with us.\n",
    "\n",
    "Now, are you ready to try out your new skills? Now would be a great time to join our [Housing Prices](https://www.kaggle.com/c/house-prices-advanced-regression-techniques) Getting Started competition. We've even prepared a [Bonus Lesson](https://www.kaggle.com/ryanholbrook/feature-engineering-for-house-prices) that collects all the work we've done together into a starter notebook.\n",
    "\n",
    "# References #\n",
    "Here are some great resources you might like to consult for more information. They all played a part in shaping this course:\n",
    "- *The Art of Feature Engineering*, a book by Pablo Duboue.\n",
    "- *An Empirical Analysis of Feature Engineering for Predictive Modeling*, an article by Jeff Heaton.\n",
    "- *Feature Engineering for Machine Learning*, a book by Alice Zheng and Amanda Casari. The tutorial on clustering was inspired by this excellent book.\n",
    "- *Feature Engineering and Selection*, a book by Max Kuhn and Kjell Johnson."
   ]
  },
  {
   "cell_type": "markdown",
   "id": "d7e593e1",
   "metadata": {
    "papermill": {
     "duration": 0.007641,
     "end_time": "2022-09-14T22:41:18.183596",
     "exception": false,
     "start_time": "2022-09-14T22:41:18.175955",
     "status": "completed"
    },
    "tags": []
   },
   "source": [
    "---\n",
    "\n",
    "\n",
    "\n",
    "\n",
    "*Have questions or comments? Visit the [course discussion forum](https://www.kaggle.com/learn/feature-engineering/discussion) to chat with other learners.*"
   ]
  }
 ],
 "metadata": {
  "kernelspec": {
   "display_name": "Python 3",
   "language": "python",
   "name": "python3"
  },
  "language_info": {
   "codemirror_mode": {
    "name": "ipython",
    "version": 3
   },
   "file_extension": ".py",
   "mimetype": "text/x-python",
   "name": "python",
   "nbconvert_exporter": "python",
   "pygments_lexer": "ipython3",
   "version": "3.7.12"
  },
  "papermill": {
   "default_parameters": {},
   "duration": 26.209643,
   "end_time": "2022-09-14T22:41:18.912921",
   "environment_variables": {},
   "exception": null,
   "input_path": "__notebook__.ipynb",
   "output_path": "__notebook__.ipynb",
   "parameters": {},
   "start_time": "2022-09-14T22:40:52.703278",
   "version": "2.3.4"
  }
 },
 "nbformat": 4,
 "nbformat_minor": 5
}
